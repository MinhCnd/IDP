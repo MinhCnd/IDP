{
 "cells": [
  {
   "cell_type": "code",
   "execution_count": null,
   "id": "4c310d36",
   "metadata": {},
   "outputs": [],
   "source": [
    "from transformers import AutoModelForTokenClassification\n",
    "\n",
    "# Will load LayoutLMv3ForTokenClassification\n",
    "MODEL_PATH = \"C:/Projects/IDP/watercare/model_output/23_11_03_03/checkpoint-150/\"\n",
    "model = AutoModelForTokenClassification.from_pretrained(MODEL_PATH)"
   ]
  },
  {
   "cell_type": "code",
   "execution_count": null,
   "id": "03696d8c",
   "metadata": {},
   "outputs": [],
   "source": [
    "from transformers import AutoProcessor\n",
    "\n",
    "# we'll use the Auto API here - it will load LayoutLMv3Processor behind the scenes,\n",
    "# based on the checkpoint we provide from the hub\n",
    "processor = AutoProcessor.from_pretrained(MODEL_PATH, apply_ocr=False)"
   ]
  },
  {
   "cell_type": "code",
   "execution_count": null,
   "id": "fe97c329",
   "metadata": {},
   "outputs": [],
   "source": [
    "# Load in image\n",
    "from PIL import Image\n",
    "import numpy as np\n",
    "from pathlib import Path\n",
    "from pdf2image import convert_from_path\n",
    "\n",
    "FILE_PATH = Path(\"C:/Projects/IDP/watercare/dataset/pdfs/23_11_27.pdf\")\n",
    "\n",
    "images = convert_from_path(FILE_PATH)\n",
    "\n",
    "# Open an image file\n",
    "# IMAGE_PATH = Path(\"C:/Projects/IDP/watercare/dataset/images/20-1.png\")\n",
    "# image = Image.open(IMAGE_PATH, formats=['png'])\n",
    "PDF_PAGE = 1\n",
    "image = images[PDF_PAGE]\n",
    "\n",
    "# Convert the image to a NumPy array\n",
    "image_array = np.asarray(image)\n",
    "img_width, img_height = image.size"
   ]
  },
  {
   "cell_type": "code",
   "execution_count": null,
   "id": "3a34d2a9",
   "metadata": {},
   "outputs": [],
   "source": [
    "import pytesseract\n",
    "from idp.annotations.bbox_utils import normalize_box\n",
    "\n",
    "def get_text_box_pairs(image):\n",
    "    tesseract_output = pytesseract.image_to_data(image, output_type=pytesseract.Output.DICT)\n",
    "    boxes = []\n",
    "    texts = []\n",
    "    for i, level_idx in enumerate(tesseract_output[\"level\"]):\n",
    "        if level_idx == 5:\n",
    "            bbox = [tesseract_output[\"left\"][i],\n",
    "                    tesseract_output[\"top\"][i],\n",
    "                    tesseract_output[\"left\"][i]+tesseract_output[\"width\"][i],\n",
    "                    tesseract_output[\"top\"][i]+tesseract_output[\"height\"][i]\n",
    "            ]\n",
    "            if not tesseract_output[\"text\"][i].strip():\n",
    "                continue\n",
    "            bbox = normalize_box(bbox, img_width, img_height)\n",
    "            texts.append(tesseract_output[\"text\"][i])\n",
    "            boxes.append(bbox)\n",
    "\n",
    "    return (texts, boxes)\n",
    "\n",
    "texts, boxes = get_text_box_pairs(image)"
   ]
  },
  {
   "cell_type": "code",
   "execution_count": null,
   "id": "f92c9532",
   "metadata": {},
   "outputs": [],
   "source": [
    "# import csv\n",
    "\n",
    "# with open('testFile.csv','w') as file:\n",
    "#     for key in tesseract_output.keys():\n",
    "#          file.write(\"%s, %s\\n\" % (key, tesseract_output[key]))"
   ]
  },
  {
   "cell_type": "code",
   "execution_count": null,
   "id": "9f40cbd6",
   "metadata": {},
   "outputs": [],
   "source": [
    "from pathlib import Path\n",
    "import re\n",
    "\n",
    "def is_box_a_within_box_b(box_a, box_b):\n",
    "    left_a, top_a, right_a, bottom_a = box_a\n",
    "    left_b, top_b, right_b, bottom_b = box_b\n",
    "    \n",
    "    # Check if Box B contains box A\n",
    "    return left_b<=left_a and top_b<=top_a and right_b>=right_a and bottom_b>=bottom_a\n",
    "    \n",
    "# HACK remove texts & boxes outside of Labelling area\n",
    "image_name = IMAGE_PATH.name\n",
    "FIRST_PAGE = False\n",
    "def text_box_relevant(text_box_pairs):\n",
    "    text, box = text_box_pairs\n",
    "    if FIRST_PAGE:\n",
    "        outer_box = normalize_box((1298, 828, 1536, 1550), img_width, img_height)\n",
    "        return is_box_a_within_box_b(box, outer_box)\n",
    "    else:\n",
    "        outer_box = normalize_box((139, 119, 827, 1173), img_width, img_height)\n",
    "        return is_box_a_within_box_b(box, outer_box)\n",
    "    \n",
    "filtered_list = list(filter(text_box_relevant, list(zip(texts,boxes))))\n",
    "result = [[text for text, box in filtered_list],[box for text, box in filtered_list]]\n",
    "texts, boxes = result"
   ]
  },
  {
   "cell_type": "code",
   "execution_count": null,
   "id": "babe0094",
   "metadata": {},
   "outputs": [],
   "source": [
    "texts, boxes"
   ]
  },
  {
   "cell_type": "code",
   "execution_count": null,
   "id": "c1028301",
   "metadata": {},
   "outputs": [],
   "source": [
    "encoding = processor(images=[image_array], text=texts, boxes=boxes, return_tensors=\"pt\")"
   ]
  },
  {
   "cell_type": "code",
   "execution_count": null,
   "id": "0512d4de",
   "metadata": {},
   "outputs": [],
   "source": [
    "import torch\n",
    "\n",
    "with torch.no_grad():\n",
    "  outputs = model(**encoding)"
   ]
  },
  {
   "cell_type": "code",
   "execution_count": null,
   "id": "df58898b",
   "metadata": {},
   "outputs": [],
   "source": [
    "outputs"
   ]
  },
  {
   "cell_type": "code",
   "execution_count": null,
   "id": "d81a3cee",
   "metadata": {},
   "outputs": [],
   "source": [
    "logits = outputs.logits\n",
    "logits.shape"
   ]
  },
  {
   "cell_type": "code",
   "execution_count": null,
   "id": "13d71ee6",
   "metadata": {},
   "outputs": [],
   "source": [
    "predictions = logits.argmax(-1).squeeze().tolist()"
   ]
  },
  {
   "cell_type": "code",
   "execution_count": null,
   "id": "2bb76906",
   "metadata": {},
   "outputs": [],
   "source": [
    "predictions"
   ]
  },
  {
   "cell_type": "code",
   "execution_count": null,
   "id": "31c5573f",
   "metadata": {},
   "outputs": [],
   "source": [
    "model.config.id2label"
   ]
  },
  {
   "cell_type": "code",
   "execution_count": null,
   "id": "3da5e7f6",
   "metadata": {},
   "outputs": [],
   "source": [
    "from idp.annotations.bbox_utils import unnormalize_box, merge_box_extremes\n",
    "from idp.annotations.annotation_utils import Classes, CLASS_TO_LABEL_MAP\n",
    "\n",
    "\n",
    "token_boxes = encoding.bbox.squeeze().tolist()\n",
    "\n",
    "input_id_list = encoding['input_ids'].squeeze()\n",
    "true_predictions = [model.config.id2label[pred] for pred in predictions]\n",
    "true_boxes = [unnormalize_box(box, img_width, img_height) for box in token_boxes]\n",
    "true_texts = [processor.tokenizer.decode([input_id_list[i]]) for i in list(range(len(predictions)))]\n",
    "    \n",
    "output_dict = {value: {'text':'','box':[]} for key,value in CLASS_TO_LABEL_MAP.items() if key != Classes.OTHER}\n",
    "for key in output_dict.keys():\n",
    "    output_dict[key]['text'] = ''.join([ text for text, prediction in zip(true_texts, true_predictions) if prediction == key])\n",
    "    output_dict[key]['box'] = merge_box_extremes([box for box, prediction in zip(true_boxes, true_predictions) if prediction == key])\n",
    "    \n",
    "#trim empty outputs\n",
    "item_not_empty = lambda item : len(item[1]['text']) != 0\n",
    "output_dict = dict(filter(item_not_empty, output_dict.items()))\n",
    "output_dict"
   ]
  },
  {
   "cell_type": "code",
   "execution_count": null,
   "id": "1bbdbeea",
   "metadata": {},
   "outputs": [],
   "source": [
    "from PIL import ImageDraw, ImageFont\n",
    "\n",
    "image = images[PDF_PAGE]\n",
    "draw = ImageDraw.Draw(image)\n",
    "\n",
    "# font = ImageFont.load_default()\n",
    "font = ImageFont.truetype(\"arial.ttf\", 20)\n",
    "\n",
    "def iob_to_label(label):\n",
    "    label = label[2:]\n",
    "    if not label:\n",
    "      return 'other'\n",
    "    return label\n",
    "\n",
    "label2color = {'other':'pink','balance_still_owing':'red', 'water_consumption':'purple', 'wastewater_consumption':'green', 'wastewater_fixed':'orange', 'balance_current_charges':'violet',\n",
    "              \"total_due\": \"black\",'water_consumption_details':'red','wastewater_consumption_details':'purple','wastewater_fixed_details':'green','her':'black','this_reading': 'black', 'last_reading': 'green'}\n",
    "\n",
    "# for prediction, box in zip(true_predictions, true_boxes):\n",
    "#     predicted_label = iob_to_label(prediction).lower()\n",
    "#     draw.rectangle(box, outline=label2color[predicted_label])\n",
    "#     draw.text((box[0] + 10, box[1] - 10), text=predicted_label, fill=label2color[predicted_label], font=font)\n",
    "    \n",
    "for item in output_dict.items():\n",
    "    predicted_label = iob_to_label(item[0]).lower()\n",
    "    box = item[1]['box']\n",
    "    draw.rectangle(box, outline=label2color[predicted_label])\n",
    "    draw.text((box[0] - 280, box[1]), text=f\"{predicted_label}:{item[1]['text']}\", fill=label2color[predicted_label], font=font)\n",
    "    \n",
    "image"
   ]
  },
  {
   "cell_type": "code",
   "execution_count": null,
   "id": "f5e1ca17",
   "metadata": {},
   "outputs": [],
   "source": []
  },
  {
   "cell_type": "code",
   "execution_count": null,
   "id": "7ff71f0e",
   "metadata": {},
   "outputs": [],
   "source": []
  }
 ],
 "metadata": {
  "kernelspec": {
   "display_name": "Python 3 (ipykernel)",
   "language": "python",
   "name": "python3"
  },
  "language_info": {
   "codemirror_mode": {
    "name": "ipython",
    "version": 3
   },
   "file_extension": ".py",
   "mimetype": "text/x-python",
   "name": "python",
   "nbconvert_exporter": "python",
   "pygments_lexer": "ipython3",
   "version": "3.10.11"
  }
 },
 "nbformat": 4,
 "nbformat_minor": 5
}
