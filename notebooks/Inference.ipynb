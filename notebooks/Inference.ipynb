{
 "cells": [
  {
   "cell_type": "code",
   "execution_count": 89,
   "id": "4c310d36",
   "metadata": {},
   "outputs": [],
   "source": [
    "from transformers import AutoModelForTokenClassification\n",
    "\n",
    "# Will load LayoutLMv3ForTokenClassification\n",
    "MODEL_PATH = \"C:/Projects/IDP/watercare/model_output/23_11_03_03/checkpoint-150/\"\n",
    "model = AutoModelForTokenClassification.from_pretrained(MODEL_PATH)"
   ]
  },
  {
   "cell_type": "code",
   "execution_count": 90,
   "id": "03696d8c",
   "metadata": {},
   "outputs": [
    {
     "name": "stderr",
     "output_type": "stream",
     "text": [
      "Special tokens have been added in the vocabulary, make sure the associated word embeddings are fine-tuned or trained.\n"
     ]
    }
   ],
   "source": [
    "from transformers import AutoProcessor\n",
    "\n",
    "# we'll use the Auto API here - it will load LayoutLMv3Processor behind the scenes,\n",
    "# based on the checkpoint we provide from the hub\n",
    "processor = AutoProcessor.from_pretrained(MODEL_PATH, apply_ocr=False)"
   ]
  },
  {
   "cell_type": "code",
   "execution_count": 91,
   "id": "fe97c329",
   "metadata": {},
   "outputs": [],
   "source": [
    "# Load in image\n",
    "from PIL import Image\n",
    "import numpy as np\n",
    "from pathlib import Path\n",
    "from pdf2image import convert_from_path\n",
    "\n",
    "FILE_PATH = Path(\"C:/Projects/IDP/watercare/dataset/pdfs/23_11_27.pdf\")\n",
    "\n",
    "images = convert_from_path(FILE_PATH)\n",
    "\n",
    "# Open an image file\n",
    "# IMAGE_PATH = Path(\"C:/Projects/IDP/watercare/dataset/images/20-1.png\")\n",
    "# image = Image.open(IMAGE_PATH, formats=['png'])\n",
    "PDF_PAGE = 1\n",
    "image = images[PDF_PAGE]\n",
    "\n",
    "# Convert the image to a NumPy array\n",
    "image_array = np.asarray(image)\n",
    "img_width, img_height = image.size"
   ]
  },
  {
   "cell_type": "code",
   "execution_count": 92,
   "id": "3a34d2a9",
   "metadata": {},
   "outputs": [],
   "source": [
    "import pytesseract\n",
    "from idp.annotations.bbox_utils import normalize_box\n",
    "\n",
    "def get_text_box_pairs(image):\n",
    "    tesseract_output = pytesseract.image_to_data(image, output_type=pytesseract.Output.DICT)\n",
    "    boxes = []\n",
    "    texts = []\n",
    "    for i, level_idx in enumerate(tesseract_output[\"level\"]):\n",
    "        if level_idx == 5:\n",
    "            bbox = [tesseract_output[\"left\"][i],\n",
    "                    tesseract_output[\"top\"][i],\n",
    "                    tesseract_output[\"left\"][i]+tesseract_output[\"width\"][i],\n",
    "                    tesseract_output[\"top\"][i]+tesseract_output[\"height\"][i]\n",
    "            ]\n",
    "            if not tesseract_output[\"text\"][i].strip():\n",
    "                continue\n",
    "            bbox = normalize_box(bbox, img_width, img_height)\n",
    "            texts.append(tesseract_output[\"text\"][i])\n",
    "            boxes.append(bbox)\n",
    "\n",
    "    return (texts, boxes)\n",
    "\n",
    "texts, boxes = get_text_box_pairs(image)"
   ]
  },
  {
   "cell_type": "code",
   "execution_count": 93,
   "id": "f92c9532",
   "metadata": {},
   "outputs": [],
   "source": [
    "# import csv\n",
    "\n",
    "# with open('testFile.csv','w') as file:\n",
    "#     for key in tesseract_output.keys():\n",
    "#          file.write(\"%s, %s\\n\" % (key, tesseract_output[key]))"
   ]
  },
  {
   "cell_type": "code",
   "execution_count": 94,
   "id": "9f40cbd6",
   "metadata": {},
   "outputs": [],
   "source": [
    "from pathlib import Path\n",
    "import re\n",
    "\n",
    "def is_box_a_within_box_b(box_a, box_b):\n",
    "    left_a, top_a, right_a, bottom_a = box_a\n",
    "    left_b, top_b, right_b, bottom_b = box_b\n",
    "    \n",
    "    # Check if Box B contains box A\n",
    "    return left_b<=left_a and top_b<=top_a and right_b>=right_a and bottom_b>=bottom_a\n",
    "    \n",
    "# HACK remove texts & boxes outside of Labelling area\n",
    "image_name = IMAGE_PATH.name\n",
    "FIRST_PAGE = False\n",
    "def text_box_relevant(text_box_pairs):\n",
    "    text, box = text_box_pairs\n",
    "    if FIRST_PAGE:\n",
    "        outer_box = normalize_box((1298, 828, 1536, 1550), img_width, img_height)\n",
    "        return is_box_a_within_box_b(box, outer_box)\n",
    "    else:\n",
    "        outer_box = normalize_box((139, 119, 827, 1173), img_width, img_height)\n",
    "        return is_box_a_within_box_b(box, outer_box)\n",
    "    \n",
    "filtered_list = list(filter(text_box_relevant, list(zip(texts,boxes))))\n",
    "result = [[text for text, box in filtered_list],[box for text, box in filtered_list]]\n",
    "texts, boxes = result"
   ]
  },
  {
   "cell_type": "code",
   "execution_count": 95,
   "id": "babe0094",
   "metadata": {},
   "outputs": [
    {
     "data": {
      "text/plain": [
       "(['Details',\n",
       "  'Charge',\n",
       "  'details',\n",
       "  'Consumption',\n",
       "  'charges',\n",
       "  'Unit',\n",
       "  'rate',\n",
       "  'Water',\n",
       "  '22.00',\n",
       "  'kL',\n",
       "  '$1.998/kL',\n",
       "  '$',\n",
       "  '43.96',\n",
       "  'Wastewater',\n",
       "  '17.27',\n",
       "  'kL',\n",
       "  '$3.476/kL',\n",
       "  '$',\n",
       "  '60.03',\n",
       "  '$',\n",
       "  '103.99',\n",
       "  'Consumption',\n",
       "  'details',\n",
       "  'Meter',\n",
       "  'no.',\n",
       "  'X19A613028',\n",
       "  '-',\n",
       "  'Consumption',\n",
       "  'period',\n",
       "  '30',\n",
       "  'days',\n",
       "  'This',\n",
       "  'reading',\n",
       "  '24-Nov-23',\n",
       "  '781',\n",
       "  'Actual',\n",
       "  'Last',\n",
       "  'reading',\n",
       "  '25-Oct-23',\n",
       "  '759',\n",
       "  'Estimate',\n",
       "  'Consumption',\n",
       "  '22.00kL',\n",
       "  'Water',\n",
       "  '22.00kL',\n",
       "  'Wastewater',\n",
       "  '@78.50%',\n",
       "  '17.27kL'],\n",
       " [[106, 63, 179, 76],\n",
       "  [109, 88, 157, 98],\n",
       "  [163, 88, 205, 96],\n",
       "  [109, 100, 194, 109],\n",
       "  [199, 100, 249, 109],\n",
       "  [321, 100, 346, 107],\n",
       "  [351, 100, 374, 107],\n",
       "  [106, 109, 144, 122],\n",
       "  [263, 111, 295, 118],\n",
       "  [301, 111, 313, 118],\n",
       "  [321, 111, 379, 119],\n",
       "  [427, 111, 433, 119],\n",
       "  [437, 111, 471, 118],\n",
       "  [108, 119, 179, 133],\n",
       "  [264, 122, 295, 129],\n",
       "  [301, 122, 313, 129],\n",
       "  [321, 121, 379, 129],\n",
       "  [427, 121, 433, 129],\n",
       "  [438, 122, 471, 129],\n",
       "  [419, 143, 426, 151],\n",
       "  [431, 144, 471, 150],\n",
       "  [109, 182, 197, 191],\n",
       "  [202, 182, 245, 189],\n",
       "  [109, 195, 144, 202],\n",
       "  [149, 197, 167, 202],\n",
       "  [172, 195, 250, 202],\n",
       "  [254, 199, 258, 200],\n",
       "  [263, 195, 341, 204],\n",
       "  [346, 195, 382, 204],\n",
       "  [387, 195, 401, 202],\n",
       "  [405, 195, 433, 204],\n",
       "  [108, 206, 133, 212],\n",
       "  [138, 206, 182, 215],\n",
       "  [229, 206, 292, 212],\n",
       "  [383, 206, 402, 212],\n",
       "  [446, 206, 483, 212],\n",
       "  [109, 216, 134, 223],\n",
       "  [138, 216, 182, 225],\n",
       "  [229, 215, 289, 227],\n",
       "  [383, 216, 404, 223],\n",
       "  [432, 216, 483, 223],\n",
       "  [109, 231, 186, 243],\n",
       "  [372, 233, 419, 239],\n",
       "  [108, 247, 144, 259],\n",
       "  [372, 248, 419, 255],\n",
       "  [108, 257, 179, 270],\n",
       "  [242, 259, 300, 268],\n",
       "  [373, 259, 419, 266]])"
      ]
     },
     "execution_count": 95,
     "metadata": {},
     "output_type": "execute_result"
    }
   ],
   "source": [
    "texts, boxes"
   ]
  },
  {
   "cell_type": "code",
   "execution_count": 96,
   "id": "c1028301",
   "metadata": {},
   "outputs": [],
   "source": [
    "encoding = processor(images=[image_array], text=texts, boxes=boxes, return_tensors=\"pt\")"
   ]
  },
  {
   "cell_type": "code",
   "execution_count": 97,
   "id": "0512d4de",
   "metadata": {},
   "outputs": [],
   "source": [
    "import torch\n",
    "\n",
    "with torch.no_grad():\n",
    "  outputs = model(**encoding)"
   ]
  },
  {
   "cell_type": "code",
   "execution_count": 98,
   "id": "df58898b",
   "metadata": {},
   "outputs": [
    {
     "data": {
      "text/plain": [
       "TokenClassifierOutput(loss=None, logits=tensor([[[ 0.5304, -0.6172, -0.3139,  ..., -0.2395,  0.2582, -0.1597],\n",
       "         [ 6.8312, -0.3943, -0.5311,  ..., -0.1877, -0.1720, -0.4352],\n",
       "         [ 6.8402, -0.4031, -0.5497,  ..., -0.1776, -0.2078, -0.4014],\n",
       "         ...,\n",
       "         [ 6.7072, -0.3617, -0.7190,  ..., -0.0946, -0.2051, -0.2267],\n",
       "         [ 6.7314, -0.3532, -0.7067,  ..., -0.1229, -0.2340, -0.2167],\n",
       "         [ 0.5343, -0.6152, -0.3120,  ..., -0.2413,  0.2580, -0.1607]]]), hidden_states=None, attentions=None)"
      ]
     },
     "execution_count": 98,
     "metadata": {},
     "output_type": "execute_result"
    }
   ],
   "source": [
    "outputs"
   ]
  },
  {
   "cell_type": "code",
   "execution_count": 99,
   "id": "d81a3cee",
   "metadata": {},
   "outputs": [
    {
     "data": {
      "text/plain": [
       "torch.Size([1, 109, 12])"
      ]
     },
     "execution_count": 99,
     "metadata": {},
     "output_type": "execute_result"
    }
   ],
   "source": [
    "logits = outputs.logits\n",
    "logits.shape"
   ]
  },
  {
   "cell_type": "code",
   "execution_count": 100,
   "id": "13d71ee6",
   "metadata": {},
   "outputs": [],
   "source": [
    "predictions = logits.argmax(-1).squeeze().tolist()"
   ]
  },
  {
   "cell_type": "code",
   "execution_count": 101,
   "id": "2bb76906",
   "metadata": {},
   "outputs": [
    {
     "data": {
      "text/plain": [
       "[8,\n",
       " 0,\n",
       " 0,\n",
       " 0,\n",
       " 0,\n",
       " 0,\n",
       " 0,\n",
       " 0,\n",
       " 7,\n",
       " 7,\n",
       " 7,\n",
       " 7,\n",
       " 7,\n",
       " 7,\n",
       " 7,\n",
       " 7,\n",
       " 7,\n",
       " 7,\n",
       " 7,\n",
       " 7,\n",
       " 7,\n",
       " 7,\n",
       " 7,\n",
       " 7,\n",
       " 7,\n",
       " 8,\n",
       " 8,\n",
       " 8,\n",
       " 8,\n",
       " 8,\n",
       " 8,\n",
       " 8,\n",
       " 8,\n",
       " 8,\n",
       " 8,\n",
       " 8,\n",
       " 8,\n",
       " 8,\n",
       " 8,\n",
       " 8,\n",
       " 8,\n",
       " 8,\n",
       " 8,\n",
       " 0,\n",
       " 0,\n",
       " 0,\n",
       " 0,\n",
       " 0,\n",
       " 0,\n",
       " 0,\n",
       " 0,\n",
       " 0,\n",
       " 0,\n",
       " 0,\n",
       " 0,\n",
       " 0,\n",
       " 0,\n",
       " 0,\n",
       " 0,\n",
       " 0,\n",
       " 0,\n",
       " 0,\n",
       " 0,\n",
       " 10,\n",
       " 10,\n",
       " 10,\n",
       " 10,\n",
       " 10,\n",
       " 10,\n",
       " 10,\n",
       " 10,\n",
       " 10,\n",
       " 10,\n",
       " 11,\n",
       " 11,\n",
       " 11,\n",
       " 11,\n",
       " 11,\n",
       " 11,\n",
       " 11,\n",
       " 11,\n",
       " 11,\n",
       " 11,\n",
       " 11,\n",
       " 0,\n",
       " 0,\n",
       " 0,\n",
       " 0,\n",
       " 0,\n",
       " 0,\n",
       " 0,\n",
       " 0,\n",
       " 0,\n",
       " 0,\n",
       " 0,\n",
       " 0,\n",
       " 0,\n",
       " 0,\n",
       " 0,\n",
       " 0,\n",
       " 0,\n",
       " 0,\n",
       " 0,\n",
       " 0,\n",
       " 0,\n",
       " 0,\n",
       " 0,\n",
       " 0,\n",
       " 8]"
      ]
     },
     "execution_count": 101,
     "metadata": {},
     "output_type": "execute_result"
    }
   ],
   "source": [
    "predictions"
   ]
  },
  {
   "cell_type": "code",
   "execution_count": 102,
   "id": "31c5573f",
   "metadata": {},
   "outputs": [
    {
     "data": {
      "text/plain": [
       "{0: 'B-OTHER',\n",
       " 1: 'B-BALANCE_STILL_OWING',\n",
       " 2: 'B-WATER_CONSUMPTION',\n",
       " 3: 'B-WASTEWATER_CONSUMPTION',\n",
       " 4: 'B-WASTEWATER_FIXED',\n",
       " 5: 'B-BALANCE_CURRENT_CHARGES',\n",
       " 6: 'B-TOTAL_DUE',\n",
       " 7: 'B-WATER_CONSUMPTION_DETAILS',\n",
       " 8: 'B-WASTEWATER_CONSUMPTION_DETAILS',\n",
       " 9: 'B-WASTEWATER_FIXED_DETAILS',\n",
       " 10: 'B-THIS_READING',\n",
       " 11: 'B-LAST_READING'}"
      ]
     },
     "execution_count": 102,
     "metadata": {},
     "output_type": "execute_result"
    }
   ],
   "source": [
    "model.config.id2label"
   ]
  },
  {
   "cell_type": "code",
   "execution_count": 103,
   "id": "3da5e7f6",
   "metadata": {},
   "outputs": [
    {
     "data": {
      "text/plain": [
       "{'B-WATER_CONSUMPTION_DETAILS': {'text': ' Water 22.00 kL $1.998/kL $ 43.96',\n",
       "  'box': [175, 254, 778, 285]},\n",
       " 'B-WASTEWATER_CONSUMPTION_DETAILS': {'text': '<s> Wastewater 17.27 kL $3.476/kL $ 60.03</s>',\n",
       "  'box': [0, 0, 778, 311]},\n",
       " 'B-THIS_READING': {'text': ' This reading 24-Nov-23 781 Actual',\n",
       "  'box': [178, 481, 798, 502]},\n",
       " 'B-LAST_READING': {'text': ' Last reading 25-Oct-23 759 Estimate',\n",
       "  'box': [180, 502, 798, 530]}}"
      ]
     },
     "execution_count": 103,
     "metadata": {},
     "output_type": "execute_result"
    }
   ],
   "source": [
    "from idp.annotations.bbox_utils import unnormalize_box, merge_box_extremes\n",
    "from idp.annotations.annotation_utils import Classes, CLASS_TO_LABEL_MAP\n",
    "\n",
    "\n",
    "token_boxes = encoding.bbox.squeeze().tolist()\n",
    "\n",
    "input_id_list = encoding['input_ids'].squeeze()\n",
    "true_predictions = [model.config.id2label[pred] for pred in predictions]\n",
    "true_boxes = [unnormalize_box(box, img_width, img_height) for box in token_boxes]\n",
    "true_texts = [processor.tokenizer.decode([input_id_list[i]]) for i in list(range(len(predictions)))]\n",
    "    \n",
    "output_dict = {value: {'text':'','box':[]} for key,value in CLASS_TO_LABEL_MAP.items() if key != Classes.OTHER}\n",
    "for key in output_dict.keys():\n",
    "    output_dict[key]['text'] = ''.join([ text for text, prediction in zip(true_texts, true_predictions) if prediction == key])\n",
    "    output_dict[key]['box'] = merge_box_extremes([box for box, prediction in zip(true_boxes, true_predictions) if prediction == key])\n",
    "    \n",
    "#trim empty outputs\n",
    "item_not_empty = lambda item : len(item[1]['text']) != 0\n",
    "output_dict = dict(filter(item_not_empty, output_dict.items()))\n",
    "output_dict"
   ]
  },
  {
   "cell_type": "code",
   "execution_count": null,
   "id": "1bbdbeea",
   "metadata": {},
   "outputs": [],
   "source": [
    "from PIL import ImageDraw, ImageFont\n",
    "\n",
    "image = images[PDF_PAGE]\n",
    "draw = ImageDraw.Draw(image)\n",
    "\n",
    "# font = ImageFont.load_default()\n",
    "font = ImageFont.truetype(\"arial.ttf\", 20)\n",
    "\n",
    "def iob_to_label(label):\n",
    "    label = label[2:]\n",
    "    if not label:\n",
    "      return 'other'\n",
    "    return label\n",
    "\n",
    "label2color = {'other':'pink','balance_still_owing':'red', 'water_consumption':'purple', 'wastewater_consumption':'green', 'wastewater_fixed':'orange', 'balance_current_charges':'violet',\n",
    "              \"total_due\": \"black\",'water_consumption_details':'red','wastewater_consumption_details':'purple','wastewater_fixed_details':'green','her':'black','this_reading': 'black', 'last_reading': 'green'}\n",
    "\n",
    "# for prediction, box in zip(true_predictions, true_boxes):\n",
    "#     predicted_label = iob_to_label(prediction).lower()\n",
    "#     draw.rectangle(box, outline=label2color[predicted_label])\n",
    "#     draw.text((box[0] + 10, box[1] - 10), text=predicted_label, fill=label2color[predicted_label], font=font)\n",
    "    \n",
    "for item in output_dict.items():\n",
    "    predicted_label = iob_to_label(item[0]).lower()\n",
    "    box = item[1]['box']\n",
    "    draw.rectangle(box, outline=label2color[predicted_label])\n",
    "    draw.text((box[0] - 280, box[1]), text=f\"{predicted_label}:{item[1]['text']}\", fill=label2color[predicted_label], font=font)\n",
    "    \n",
    "image"
   ]
  },
  {
   "cell_type": "code",
   "execution_count": null,
   "id": "f5e1ca17",
   "metadata": {},
   "outputs": [],
   "source": []
  },
  {
   "cell_type": "code",
   "execution_count": null,
   "id": "7ff71f0e",
   "metadata": {},
   "outputs": [],
   "source": []
  }
 ],
 "metadata": {
  "kernelspec": {
   "display_name": "Python 3 (ipykernel)",
   "language": "python",
   "name": "python3"
  },
  "language_info": {
   "codemirror_mode": {
    "name": "ipython",
    "version": 3
   },
   "file_extension": ".py",
   "mimetype": "text/x-python",
   "name": "python",
   "nbconvert_exporter": "python",
   "pygments_lexer": "ipython3",
   "version": "3.10.11"
  }
 },
 "nbformat": 4,
 "nbformat_minor": 5
}
